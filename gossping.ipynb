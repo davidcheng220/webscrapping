{
 "cells": [
  {
   "cell_type": "code",
   "execution_count": 1,
   "metadata": {},
   "outputs": [],
   "source": [
    "import requests\n",
    "from bs4 import BeautifulSoup"
   ]
  },
  {
   "cell_type": "code",
   "execution_count": 2,
   "metadata": {},
   "outputs": [],
   "source": [
    "\n",
    "\n",
    "\n",
    "url = \"https://ptt-discussion.tw/bbs/Gossiping/index.html\"\n",
    "\n",
    "header = {\n",
    "    \"user_agent\": \"Mozilla/5.0 (Windows NT 10.0; Win64; x64) AppleWebKit/537.36 (KHTML, like Gecko) Chrome/130.0.0.0 Safari/537.36\"\n",
    "}\n",
    "\n",
    "cookie = {\n",
    "    \"over18\": \"1\"\n",
    "}\n",
    "\n",
    "report = requests.get(url, headers=header,cookies=cookie)\n",
    "# parser式用來進行轉換的轉換器 可以用來轉化成html, xml\n",
    "soup = BeautifulSoup(report.text, \"html.parser\")\n",
    "\n",
    "titles = soup.find_all(\"div\", class_ = \"title\")\n",
    "# print(title)\n"
   ]
  },
  {
   "cell_type": "code",
   "execution_count": 6,
   "metadata": {},
   "outputs": [
    {
     "name": "stdout",
     "output_type": "stream",
     "text": [
      "{<div class=\"title\">\n",
      "<a href=\"/bbs/Gossiping/M.1731081383.A.48A.html\">[新聞] 川普勝選太傷心？哈佛大學隔天取消課程</a>\n",
      "</div>} {'https://ptt-discussion.tw/bbs/Gossiping/bbs/Gossiping/M.1731081383.A.48A.html'}\n",
      "{<div class=\"title\">\n",
      "<a href=\"/bbs/Gossiping/M.1731081469.A.13A.html\">Re: [新聞] 考5A也擠不進！台灣最強高中 94.8％上國</a>\n",
      "</div>} {'https://ptt-discussion.tw/bbs/Gossiping/bbs/Gossiping/M.1731081469.A.13A.html'}\n",
      "{<div class=\"title\">\n",
      "<a href=\"/bbs/Gossiping/M.1731081490.A.918.html\">[問卦] 現在殺人犯只要說我有幻聽就穩了嗎？</a>\n",
      "</div>} {'https://ptt-discussion.tw/bbs/Gossiping/bbs/Gossiping/M.1731081490.A.918.html'}\n",
      "{<div class=\"title\">\n",
      "<a href=\"/bbs/Gossiping/M.1731081534.A.6A4.html\">[問卦] 黑熊會如何對付北捷瘋子？</a>\n",
      "</div>} {'https://ptt-discussion.tw/bbs/Gossiping/bbs/Gossiping/M.1731081534.A.6A4.html'}\n",
      "{<div class=\"title\">\n",
      "<a href=\"/bbs/Gossiping/M.1731081547.A.4F5.html\">[問卦] 都還沒問案 就知道砍人的有病喔XD</a>\n",
      "</div>} {'https://ptt-discussion.tw/bbs/Gossiping/bbs/Gossiping/M.1731081547.A.4F5.html'}\n",
      "{<div class=\"title\">\n",
      "<a href=\"/bbs/Gossiping/M.1731081554.A.2B1.html\">[問卦] 有人還記得cptpp 嗎</a>\n",
      "</div>} {'https://ptt-discussion.tw/bbs/Gossiping/bbs/Gossiping/M.1731081554.A.2B1.html'}\n",
      "{<div class=\"title\">\n",
      "<a href=\"/bbs/Gossiping/M.1731081574.A.B7F.html\">[問卦] 這些人是不是永遠砍不到高官</a>\n",
      "</div>} {'https://ptt-discussion.tw/bbs/Gossiping/bbs/Gossiping/M.1731081574.A.B7F.html'}\n",
      "{<div class=\"title\">\n",
      "<a href=\"/bbs/Gossiping/M.1731081580.A.41F.html\">[問卦] 電子發票專屬獎有調權重ㄇ</a>\n",
      "</div>} {'https://ptt-discussion.tw/bbs/Gossiping/bbs/Gossiping/M.1731081580.A.41F.html'}\n",
      "{<div class=\"title\">\n",
      "<a href=\"/bbs/Gossiping/M.1731081702.A.693.html\">[問卦] 八曜和茶是三小啦 要排三個小時?</a>\n",
      "</div>} {'https://ptt-discussion.tw/bbs/Gossiping/bbs/Gossiping/M.1731081702.A.693.html'}\n",
      "{<div class=\"title\">\n",
      "<a href=\"/bbs/Gossiping/M.1731081771.A.9BA.html\">[問卦] 我們與惡的距離2 要上映了？</a>\n",
      "</div>} {'https://ptt-discussion.tw/bbs/Gossiping/bbs/Gossiping/M.1731081771.A.9BA.html'}\n",
      "{<div class=\"title\">\n",
      "<a href=\"/bbs/Gossiping/M.1731081787.A.F4A.html\">Re: [新聞] 快訊／幻聽作祟！女子搭捷運車廂內　持</a>\n",
      "</div>} {'https://ptt-discussion.tw/bbs/Gossiping/bbs/Gossiping/M.1731081787.A.F4A.html'}\n",
      "{<div class=\"title\">\n",
      "<a href=\"/bbs/Gossiping/M.1731081798.A.BB1.html\">[問卦] 該怎麼保護妹妹</a>\n",
      "</div>} {'https://ptt-discussion.tw/bbs/Gossiping/bbs/Gossiping/M.1731081798.A.BB1.html'}\n",
      "{<div class=\"title\">\n",
      "<a href=\"/bbs/Gossiping/M.1721519414.A.6A1.html\">[公告] 八卦板板規(2024.07.21)</a>\n",
      "</div>} {'https://ptt-discussion.tw/bbs/Gossiping/bbs/Gossiping/M.1721519414.A.6A1.html'}\n",
      "{<div class=\"title\">\n",
      "<a href=\"/bbs/Gossiping/M.1728397604.A.1FB.html\">Fw: [公告] Clarify板徵文(自殺防治宣導)發錢</a>\n",
      "</div>} {'https://ptt-discussion.tw/bbs/Gossiping/bbs/Gossiping/M.1728397604.A.1FB.html'}\n",
      "{<div class=\"title\">\n",
      "<a href=\"/bbs/Gossiping/M.1730257621.A.4BE.html\">[公告] 財政部 雲端發票事件公告</a>\n",
      "</div>} {'https://ptt-discussion.tw/bbs/Gossiping/bbs/Gossiping/M.1730257621.A.4BE.html'}\n",
      "{<div class=\"title\">\n",
      "<a href=\"/bbs/Gossiping/M.1730554547.A.41C.html\">Fw: [公告] 請留意新註冊帳號使用信件詐騙</a>\n",
      "</div>} {'https://ptt-discussion.tw/bbs/Gossiping/bbs/Gossiping/M.1730554547.A.41C.html'}\n"
     ]
    }
   ],
   "source": [
    "for title in titles:\n",
    "    artical = title.find(\"a\").text.strip()\n",
    "    link = title.find(\"a\")\n",
    "    if link:\n",
    "        url = \"https://ptt-discussion.tw/bbs/Gossiping\" + link[\"href\"]\n",
    "        print({title}, {url})"
   ]
  },
  {
   "cell_type": "code",
   "execution_count": 7,
   "metadata": {},
   "outputs": [
    {
     "name": "stdout",
     "output_type": "stream",
     "text": [
      "Title: [新聞] 川普勝選太傷心？哈佛大學隔天取消課程, URL: https://ptt-discussion.tw/bbs/Gossiping/M.1731081383.A.48A.html\n",
      "Title: Re: [新聞] 考5A也擠不進！台灣最強高中 94.8％上國, URL: https://ptt-discussion.tw/bbs/Gossiping/M.1731081469.A.13A.html\n",
      "Title: [問卦] 現在殺人犯只要說我有幻聽就穩了嗎？, URL: https://ptt-discussion.tw/bbs/Gossiping/M.1731081490.A.918.html\n",
      "Title: [問卦] 黑熊會如何對付北捷瘋子？, URL: https://ptt-discussion.tw/bbs/Gossiping/M.1731081534.A.6A4.html\n",
      "Title: [問卦] 都還沒問案 就知道砍人的有病喔XD, URL: https://ptt-discussion.tw/bbs/Gossiping/M.1731081547.A.4F5.html\n",
      "Title: [問卦] 有人還記得cptpp 嗎, URL: https://ptt-discussion.tw/bbs/Gossiping/M.1731081554.A.2B1.html\n",
      "Title: [問卦] 這些人是不是永遠砍不到高官, URL: https://ptt-discussion.tw/bbs/Gossiping/M.1731081574.A.B7F.html\n",
      "Title: [問卦] 電子發票專屬獎有調權重ㄇ, URL: https://ptt-discussion.tw/bbs/Gossiping/M.1731081580.A.41F.html\n",
      "Title: [問卦] 八曜和茶是三小啦 要排三個小時?, URL: https://ptt-discussion.tw/bbs/Gossiping/M.1731081702.A.693.html\n",
      "Title: [問卦] 我們與惡的距離2 要上映了？, URL: https://ptt-discussion.tw/bbs/Gossiping/M.1731081771.A.9BA.html\n",
      "Title: Re: [新聞] 快訊／幻聽作祟！女子搭捷運車廂內　持, URL: https://ptt-discussion.tw/bbs/Gossiping/M.1731081787.A.F4A.html\n",
      "Title: [問卦] 該怎麼保護妹妹, URL: https://ptt-discussion.tw/bbs/Gossiping/M.1731081798.A.BB1.html\n",
      "Title: [公告] 八卦板板規(2024.07.21), URL: https://ptt-discussion.tw/bbs/Gossiping/M.1721519414.A.6A1.html\n",
      "Title: Fw: [公告] Clarify板徵文(自殺防治宣導)發錢, URL: https://ptt-discussion.tw/bbs/Gossiping/M.1728397604.A.1FB.html\n",
      "Title: [公告] 財政部 雲端發票事件公告, URL: https://ptt-discussion.tw/bbs/Gossiping/M.1730257621.A.4BE.html\n",
      "Title: Fw: [公告] 請留意新註冊帳號使用信件詐騙, URL: https://ptt-discussion.tw/bbs/Gossiping/M.1730554547.A.41C.html\n"
     ]
    }
   ],
   "source": [
    "articles = soup.find_all(\"div\", class_=\"title\")\n",
    "for article in articles:\n",
    "    title = article.text.strip()\n",
    "    link = article.find(\"a\")\n",
    "    if link:\n",
    "        url = \"https://ptt-discussion.tw\" + link[\"href\"]\n",
    "        print(f\"Title: {title}, URL: {url}\")\n"
   ]
  },
  {
   "cell_type": "code",
   "execution_count": null,
   "metadata": {},
   "outputs": [],
   "source": []
  }
 ],
 "metadata": {
  "kernelspec": {
   "display_name": "web",
   "language": "python",
   "name": "python3"
  },
  "language_info": {
   "codemirror_mode": {
    "name": "ipython",
    "version": 3
   },
   "file_extension": ".py",
   "mimetype": "text/x-python",
   "name": "python",
   "nbconvert_exporter": "python",
   "pygments_lexer": "ipython3",
   "version": "3.8.10"
  }
 },
 "nbformat": 4,
 "nbformat_minor": 2
}
