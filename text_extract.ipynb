{
 "cells": [
  {
   "cell_type": "code",
   "execution_count": null,
   "metadata": {},
   "outputs": [],
   "source": [
    "import requests\n",
    "from bs4 import BeautifulSoup\n",
    "def get_artical_string(artical_url: str)->str:\n",
    "    headers = {\n",
    "    \"User-Agent\": \"Mozilla/5.0 (Macintosh; Intel Mac OS X 10_15_7) AppleWebKit/537.36 (KHTML, like Gecko) Chrome/130.0.0.0 Safari/537.36\",\n",
    "    }\n",
    "    cookies = {\n",
    "    \"over18\": \"1\",\n",
    "    }\n",
    "\n",
    "    # artical_url = \"https://www.ptt.cc/bbs/Gossiping/M.1731081383.A.48A.html\"\n",
    "    res_artical = requests.get(artical_url, headers=headers, cookies=cookies)\n",
    "\n",
    "    soup_artical = BeautifulSoup(res_artical.text, \"html.parser\")\n",
    "    # ##\n",
    "    soup_artical_content = soup_artical.select('div[id=\"main-content\"]')[0]\n",
    "    # # ## why not text?\n",
    "    # div_artical = soup_artical_content.select('div[class=\"article-metaline\"]')\n",
    "    # # print(div_artical)\n",
    "\n",
    "    # push_content = soup_artical_content.select('div[class=\"push\"]')\n",
    "    # # extract the div content\n",
    "    # for div_artical in div_artical:\n",
    "    #     div_artical.extract()\n",
    "\n",
    "    # for push_content in push_content:\n",
    "    #     push_content.extract()\n",
    "    # 精簡化\n",
    "    extract_att_list = [\".article-metaline\", \".push\", \".article-metaline-right\", \".richcontent\", \".f2\"]\n",
    "    for att in extract_att_list:\n",
    "        for tag in soup_artical_content.select(att):\n",
    "            tag.extract()\n",
    "\n",
    "\n",
    "    return soup_artical_content.text\n",
    "\n",
    "if __name__ == \"__name__\":\n",
    "    artical_url = \"https://www.ptt.cc/bbs/Gossiping/M.1731081383.A.48A.html\"\n",
    "    print(get_artical_string(artical_url))"
   ]
  }
 ],
 "metadata": {
  "kernelspec": {
   "display_name": "web",
   "language": "python",
   "name": "python3"
  },
  "language_info": {
   "codemirror_mode": {
    "name": "ipython",
    "version": 3
   },
   "file_extension": ".py",
   "mimetype": "text/x-python",
   "name": "python",
   "nbconvert_exporter": "python",
   "pygments_lexer": "ipython3",
   "version": "3.8.10"
  }
 },
 "nbformat": 4,
 "nbformat_minor": 2
}
